{
 "cells": [
  {
   "cell_type": "markdown",
   "id": "d3bfc191-8885-42ee-b0a0-bbab867c6f9f",
   "metadata": {
    "tags": []
   },
   "source": [
    "# Lab | Flow Control"
   ]
  },
  {
   "cell_type": "markdown",
   "id": "3851fcd1-cf98-4653-9c89-e003b7ec9400",
   "metadata": {},
   "source": [
    "## Exercise: Managing Customer Orders Optimized\n",
    "\n",
    "In the last lab, you were starting an online store that sells various products. To ensure smooth operations, you developed a program that manages customer orders and inventory.\n",
    "\n",
    "You did so without using flow control. Let's go a step further and improve this code.\n",
    "\n",
    "Follow the steps below to complete the exercise:\n",
    "\n",
    "1. Look at your code from the lab data structures, and improve repeated code with loops.\n",
    "\n",
    "2. Instead of asking the user to input the name of three products that a customer wants to order, do the following:\n",
    "    \n",
    "    a. Prompt the user to enter the name of a product that a customer wants to order.\n",
    "    \n",
    "    b. Add the product name to the \"customer_orders\" set.\n",
    "    \n",
    "    c. Ask the user if they want to add another product (yes/no).\n",
    "    \n",
    "    d. Continue the loop until the user does not want to add another product.\n",
    "\n",
    "3. Instead of updating the inventory by subtracting 1 from the quantity of each product, only do it for  the products that were ordered (those in \"customer_orders\")."
   ]
  },
  {
   "cell_type": "code",
   "execution_count": 13,
   "id": "bd02c985-9297-4d99-9ddb-a2118d5f4361",
   "metadata": {},
   "outputs": [
    {
     "name": "stdin",
     "output_type": "stream",
     "text": [
      "Enter yes if you want to add any product, no else yes\n",
      "choose products :  t-shirt\n",
      "Witch quantity :  2\n",
      "Enter yes if you want to add any product, no else no\n"
     ]
    },
    {
     "name": "stdout",
     "output_type": "stream",
     "text": [
      "\n",
      "Your stock changed, you have know 6 quantity of t-shirt\n",
      "Your stock changed, you have know 6 quantity of mug\n",
      "Your stock changed, you have know 10 quantity of hat\n",
      "Your stock changed, you have know 15 quantity of book\n",
      "Your stock changed, you have know 3 quantity of keychain\n"
     ]
    }
   ],
   "source": [
    "products = [\"t-shirt\", \"mug\", \"hat\", \"book\", \"keychain\"]\n",
    "\n",
    "inventory = {\n",
    "    \"t-shirt\" : 4,\n",
    "    \"mug\" : 6,\n",
    "    \"hat\" : 10,\n",
    "    \"book\" : 15,\n",
    "    \"keychain\" : 3,\n",
    "}\n",
    "\n",
    "Add_product = str(input(\"Enter yes if you want to add any product, no else\").lower())\n",
    "\n",
    "customer_orders = set()\n",
    "\n",
    "while Add_product.lower() == 'yes':\n",
    "    prod = input(\"Choose a product: \")\n",
    "    if prod in products:\n",
    "        customer_orders.add(prod)\n",
    "        qté = int(input(\"Which quantity: \"))\n",
    "        if qté > inventory[prod]:\n",
    "            print(\"Quantity asked is too high\")\n",
    "        else:\n",
    "            inventory[prod] -= qté  # Correct the subtraction\n",
    "    else:\n",
    "        print(\"The product is not in the list\")\n",
    "    Add_product = str(input(\"Enter yes if you want to add any product, no else\").lower())\n",
    "\n",
    "print()\n",
    "for key, val in inventory.items():\n",
    "    print (f\"Your stock changed, you have know {val} quantity of {key}\")\n",
    "\n",
    "\n",
    "\n",
    "\n",
    "\n"
   ]
  },
  {
   "cell_type": "code",
   "execution_count": null,
   "id": "39781ee3-064f-446e-b267-0f11b5b7ac98",
   "metadata": {},
   "outputs": [],
   "source": [
    "inventory = {\n",
    "    \"t-shirt\" : 4,\n",
    "    \"mug\" : 6,\n",
    "    \"hat\" : 10,\n",
    "    \"book\" : 15,\n",
    "    \"keychain\" : 3,\n",
    "}\n",
    "\n",
    "inventory.keys()\n"
   ]
  }
 ],
 "metadata": {
  "kernelspec": {
   "display_name": "Python 3 (ipykernel)",
   "language": "python",
   "name": "python3"
  },
  "language_info": {
   "codemirror_mode": {
    "name": "ipython",
    "version": 3
   },
   "file_extension": ".py",
   "mimetype": "text/x-python",
   "name": "python",
   "nbconvert_exporter": "python",
   "pygments_lexer": "ipython3",
   "version": "3.12.7"
  }
 },
 "nbformat": 4,
 "nbformat_minor": 5
}
